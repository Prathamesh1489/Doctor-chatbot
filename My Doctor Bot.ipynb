{
 "cells": [
  {
   "cell_type": "markdown",
   "metadata": {},
   "source": [
    "# DOCTOR BOT"
   ]
  },
  {
   "cell_type": "markdown",
   "metadata": {},
   "source": [
    "This bot read a article and response accordingly to user queries..."
   ]
  },
  {
   "cell_type": "code",
   "execution_count": 1,
   "metadata": {
    "colab": {
     "base_uri": "https://localhost:8080/"
    },
    "id": "nMk1DwYek9xu",
    "outputId": "4a0d0575-6b8d-4895-cff5-57747f4c6106"
   },
   "outputs": [
    {
     "name": "stdout",
     "output_type": "stream",
     "text": [
      "Requirement already satisfied: nltk in c:\\users\\prathmesh\\anaconda3\\lib\\site-packages (3.6.1)\n",
      "Requirement already satisfied: joblib in c:\\users\\prathmesh\\anaconda3\\lib\\site-packages (from nltk) (1.0.1)\n",
      "Requirement already satisfied: tqdm in c:\\users\\prathmesh\\anaconda3\\lib\\site-packages (from nltk) (4.59.0)\n",
      "Requirement already satisfied: regex in c:\\users\\prathmesh\\anaconda3\\lib\\site-packages (from nltk) (2021.4.4)\n",
      "Requirement already satisfied: click in c:\\users\\prathmesh\\anaconda3\\lib\\site-packages (from nltk) (7.1.2)\n",
      "Note: you may need to restart the kernel to use updated packages.\n"
     ]
    }
   ],
   "source": [
    "pip install nltk                    "
   ]
  },
  {
   "cell_type": "markdown",
   "metadata": {},
   "source": [
    "Newspaper is an amazing python library for extracting & curating articles.”"
   ]
  },
  {
   "cell_type": "code",
   "execution_count": 2,
   "metadata": {
    "colab": {
     "base_uri": "https://localhost:8080/"
    },
    "id": "jtlH0_YzlJSU",
    "outputId": "0aeb7cd4-e9c1-442a-9cf4-ff630d849e61"
   },
   "outputs": [
    {
     "name": "stdout",
     "output_type": "stream",
     "text": [
      "Requirement already satisfied: newspaper3k in c:\\users\\prathmesh\\anaconda3\\lib\\site-packages (0.2.8)\n",
      "Requirement already satisfied: feedfinder2>=0.0.4 in c:\\users\\prathmesh\\anaconda3\\lib\\site-packages (from newspaper3k) (0.0.4)\n",
      "Requirement already satisfied: PyYAML>=3.11 in c:\\users\\prathmesh\\anaconda3\\lib\\site-packages (from newspaper3k) (5.4.1)\n",
      "Requirement already satisfied: Pillow>=3.3.0 in c:\\users\\prathmesh\\anaconda3\\lib\\site-packages (from newspaper3k) (8.2.0)\n",
      "Requirement already satisfied: requests>=2.10.0 in c:\\users\\prathmesh\\anaconda3\\lib\\site-packages (from newspaper3k) (2.25.1)\n",
      "Requirement already satisfied: lxml>=3.6.0 in c:\\users\\prathmesh\\anaconda3\\lib\\site-packages (from newspaper3k) (4.6.3)\n",
      "Requirement already satisfied: tldextract>=2.0.1 in c:\\users\\prathmesh\\anaconda3\\lib\\site-packages (from newspaper3k) (3.1.0)\n",
      "Requirement already satisfied: nltk>=3.2.1 in c:\\users\\prathmesh\\anaconda3\\lib\\site-packages (from newspaper3k) (3.6.1)\n",
      "Requirement already satisfied: feedparser>=5.2.1 in c:\\users\\prathmesh\\anaconda3\\lib\\site-packages (from newspaper3k) (6.0.8)\n",
      "Requirement already satisfied: jieba3k>=0.35.1 in c:\\users\\prathmesh\\anaconda3\\lib\\site-packages (from newspaper3k) (0.35.1)\n",
      "Requirement already satisfied: tinysegmenter==0.3 in c:\\users\\prathmesh\\anaconda3\\lib\\site-packages (from newspaper3k) (0.3)\n",
      "Requirement already satisfied: python-dateutil>=2.5.3 in c:\\users\\prathmesh\\anaconda3\\lib\\site-packages (from newspaper3k) (2.8.1)\n",
      "Requirement already satisfied: cssselect>=0.9.2 in c:\\users\\prathmesh\\anaconda3\\lib\\site-packages (from newspaper3k) (1.1.0)\n",
      "Requirement already satisfied: beautifulsoup4>=4.4.1 in c:\\users\\prathmesh\\anaconda3\\lib\\site-packages (from newspaper3k) (4.9.3)\n",
      "Requirement already satisfied: soupsieve>1.2 in c:\\users\\prathmesh\\anaconda3\\lib\\site-packages (from beautifulsoup4>=4.4.1->newspaper3k) (2.2.1)\n",
      "Requirement already satisfied: six in c:\\users\\prathmesh\\anaconda3\\lib\\site-packages (from feedfinder2>=0.0.4->newspaper3k) (1.15.0)\n",
      "Requirement already satisfied: sgmllib3k in c:\\users\\prathmesh\\anaconda3\\lib\\site-packages (from feedparser>=5.2.1->newspaper3k) (1.0.0)\n",
      "Requirement already satisfied: tqdm in c:\\users\\prathmesh\\anaconda3\\lib\\site-packages (from nltk>=3.2.1->newspaper3k) (4.59.0)\n",
      "Requirement already satisfied: joblib in c:\\users\\prathmesh\\anaconda3\\lib\\site-packages (from nltk>=3.2.1->newspaper3k) (1.0.1)\n",
      "Requirement already satisfied: regex in c:\\users\\prathmesh\\anaconda3\\lib\\site-packages (from nltk>=3.2.1->newspaper3k) (2021.4.4)\n",
      "Requirement already satisfied: click in c:\\users\\prathmesh\\anaconda3\\lib\\site-packages (from nltk>=3.2.1->newspaper3k) (7.1.2)\n",
      "Requirement already satisfied: certifi>=2017.4.17 in c:\\users\\prathmesh\\anaconda3\\lib\\site-packages (from requests>=2.10.0->newspaper3k) (2020.12.5)\n",
      "Requirement already satisfied: urllib3<1.27,>=1.21.1 in c:\\users\\prathmesh\\anaconda3\\lib\\site-packages (from requests>=2.10.0->newspaper3k) (1.26.4)\n",
      "Requirement already satisfied: chardet<5,>=3.0.2 in c:\\users\\prathmesh\\anaconda3\\lib\\site-packages (from requests>=2.10.0->newspaper3k) (4.0.0)\n",
      "Requirement already satisfied: idna<3,>=2.5 in c:\\users\\prathmesh\\anaconda3\\lib\\site-packages (from requests>=2.10.0->newspaper3k) (2.10)\n",
      "Requirement already satisfied: requests-file>=1.4 in c:\\users\\prathmesh\\anaconda3\\lib\\site-packages (from tldextract>=2.0.1->newspaper3k) (1.5.1)\n",
      "Requirement already satisfied: filelock>=3.0.8 in c:\\users\\prathmesh\\anaconda3\\lib\\site-packages (from tldextract>=2.0.1->newspaper3k) (3.0.12)\n",
      "Note: you may need to restart the kernel to use updated packages.\n"
     ]
    }
   ],
   "source": [
    "pip install newspaper3k             "
   ]
  },
  {
   "cell_type": "code",
   "execution_count": 3,
   "metadata": {
    "id": "9gfwx-FJlWGH"
   },
   "outputs": [],
   "source": [
    "from newspaper import Article\n",
    "import random\n",
    "import string\n",
    "import nltk\n",
    "from sklearn.feature_extraction.text import CountVectorizer\n",
    "from sklearn.metrics.pairwise import cosine_similarity\n",
    "import numpy as np\n",
    "import warnings\n",
    "warnings.filterwarnings('ignore')"
   ]
  },
  {
   "cell_type": "code",
   "execution_count": 4,
   "metadata": {
    "colab": {
     "base_uri": "https://localhost:8080/",
     "height": 34
    },
    "id": "co4jfsBimKbn",
    "outputId": "6f621fc3-2e69-4b71-cf55-8129fc39f2b1"
   },
   "outputs": [
    {
     "data": {
      "text/plain": [
       "True"
      ]
     },
     "execution_count": 4,
     "metadata": {},
     "output_type": "execute_result"
    }
   ],
   "source": [
    "nltk.download('punkt',quiet=True)                    "
   ]
  },
  {
   "cell_type": "code",
   "execution_count": 5,
   "metadata": {
    "id": "-8Me4XMlncnK"
   },
   "outputs": [
    {
     "data": {
      "text/plain": [
       "<newspaper.article.Article at 0x2443f25f5e0>"
      ]
     },
     "execution_count": 5,
     "metadata": {},
     "output_type": "execute_result"
    }
   ],
   "source": [
    "article= Article('https://www.mayoclinic.org/diseases-conditions/coronavirus/symptoms-causes/syc-20479963')\n",
    "article"
   ]
  },
  {
   "cell_type": "code",
   "execution_count": 6,
   "metadata": {},
   "outputs": [],
   "source": [
    "article.download()"
   ]
  },
  {
   "cell_type": "code",
   "execution_count": 7,
   "metadata": {},
   "outputs": [],
   "source": [
    "article.parse()"
   ]
  },
  {
   "cell_type": "code",
   "execution_count": 8,
   "metadata": {},
   "outputs": [],
   "source": [
    "article.nlp()"
   ]
  },
  {
   "cell_type": "code",
   "execution_count": 9,
   "metadata": {},
   "outputs": [
    {
     "name": "stdout",
     "output_type": "stream",
     "text": [
      "Overview\n",
      "\n",
      "Coronavirus Open pop-up dialog box Close Coronavirus Coronavirus Coronavirus is a family of viruses that can cause respiratory illnesses such as the common cold, severe acute respiratory syndrome (SARS) and Middle East respiratory syndrome (MERS).\n",
      "\n",
      "Coronaviruses are a family of viruses that can cause illnesses such as the common cold, severe acute respiratory syndrome (SARS) and Middle East respiratory syndrome (MERS). In 2019, a new coronavirus was identified as the cause of a disease outbreak that originated in China.\n",
      "\n",
      "The virus is now known as the severe acute respiratory syndrome coronavirus 2 (SARS-CoV-2). The disease it causes is called coronavirus disease 2019 (COVID-19). In March 2020, the World Health Organization (WHO) declared the COVID-19 outbreak a pandemic.\n",
      "\n",
      "Public health groups, including the U.S. Centers for Disease Control and Prevention (CDC) and WHO , are monitoring the pandemic and posting updates on their websites. These groups have also issued recommendations for preventing and treating the illness.\n",
      "\n",
      "Symptoms\n",
      "\n",
      "Signs and symptoms of coronavirus disease 2019 (COVID-19) may appear two to 14 days after exposure. This time after exposure and before having symptoms is called the incubation period. Common signs and symptoms can include:\n",
      "\n",
      "Fever\n",
      "\n",
      "Cough\n",
      "\n",
      "Tiredness\n",
      "\n",
      "Early symptoms of COVID-19 may include a loss of taste or smell.\n",
      "\n",
      "Other symptoms can include:\n",
      "\n",
      "Shortness of breath or difficulty breathing\n",
      "\n",
      "Muscle aches\n",
      "\n",
      "Chills\n",
      "\n",
      "Sore throat\n",
      "\n",
      "Runny nose\n",
      "\n",
      "Headache\n",
      "\n",
      "Chest pain\n",
      "\n",
      "Pink eye (conjunctivitis)\n",
      "\n",
      "Nausea\n",
      "\n",
      "Vomiting\n",
      "\n",
      "Diarrhea\n",
      "\n",
      "Rash\n",
      "\n",
      "This list is not all inclusive. Children have similar symptoms to adults and generally have mild illness.\n",
      "\n",
      "The severity of COVID-19 symptoms can range from very mild to severe. Some people may have only a few symptoms, and some people may have no symptoms at all. Some people may experience worsened symptoms, such as worsened shortness of breath and pneumonia, about a week after symptoms start.\n",
      "\n",
      "People who are older have a higher risk of serious illness from COVID-19 , and the risk increases with age. People who have existing medical conditions also may have a higher risk of serious illness. Certain medical conditions that may increase the risk of serious illness from COVID-19 include:\n",
      "\n",
      "Serious heart diseases, such as heart failure, coronary artery disease or cardiomyopathy\n",
      "\n",
      "Cancer\n",
      "\n",
      "Chronic obstructive pulmonary disease (COPD)\n",
      "\n",
      "Type 1 or type 2 diabetes\n",
      "\n",
      "Overweight, obesity or severe obesity\n",
      "\n",
      "High blood pressure\n",
      "\n",
      "Smoking\n",
      "\n",
      "Chronic kidney disease\n",
      "\n",
      "Sickle cell disease or thalassemia\n",
      "\n",
      "Weakened immune system from solid organ transplants\n",
      "\n",
      "Pregnancy\n",
      "\n",
      "Asthma\n",
      "\n",
      "Chronic lung diseases such as cystic fibrosis or pulmonary fibrosis\n",
      "\n",
      "Liver disease\n",
      "\n",
      "Dementia\n",
      "\n",
      "Down syndrome\n",
      "\n",
      "Weakened immune system from bone marrow transplant, HIV or some medications\n",
      "\n",
      "Brain and nervous system conditions\n",
      "\n",
      "Substance use disorders\n",
      "\n",
      "This list is not all inclusive. Other underlying medical conditions may increase your risk of serious illness from COVID-19 .\n",
      "\n",
      "COVID-19 self-checker\n",
      "\n",
      "Assess your symptoms on CDC’s coronavirus self-checker tool and find out if you’re a candidate for a COVID-19 test.\n",
      "\n",
      "When to see a doctor\n",
      "\n",
      "If you have COVID-19 signs or symptoms or you've been in contact with someone diagnosed with COVID-19 , contact your doctor or clinic right away for medical advice. Tell your health care team about your symptoms and possible exposure before you go to your appointment.\n",
      "\n",
      "If you have emergency COVID-19 signs and symptoms, seek care immediately. Emergency signs and symptoms can include:\n",
      "\n",
      "Trouble breathing\n",
      "\n",
      "Persistent chest pain or pressure\n",
      "\n",
      "Inability to stay awake\n",
      "\n",
      "New confusion\n",
      "\n",
      "Pale, gray or blue-colored skin, lips or nail beds — depending on skin tone\n",
      "\n",
      "This list isn't all inclusive. Let your doctor know if you are an older adult or have chronic medical conditions, such as heart disease or lung disease, as you may have a greater risk of becoming seriously ill with COVID-19 . During the pandemic, it's important to make sure health care is available for those in greatest need.\n",
      "\n",
      "There is a problem with information submitted for this request. Review/update the information highlighted below and resubmit the form. Get the latest health advice from Mayo Clinic delivered to your inbox. Sign up for free, and stay up-to-date on research advancements, health tips and current health topics, like COVID-19, plus expert advice on managing your health. Email ErrorEmail field is required ErrorInclude a valid email address Get more in-depth expert advice. Sign up for special offers on Mayo Clinic books, products and services, designed by experts to help people manage their health Learn more about our use of data To provide you with the most relevant and helpful information and to understand which information is beneficial, we may combine your e-mail and website usage information with other information we have about you. If you are a Mayo Clinic Patient, this could include Protected Health Information (PHI). If we combine this information with your PHI, we will treat all of that information as PHI, and will only use or disclose that information as set forth in our notice of privacy practices. You may opt-out of e-mail communications at any time by clicking on the Unsubscribe link in the e-mail. Subscribe! Thank you for Subscribing Our Housecall e-newsletter will keep you up-to-date on the latest health information. We’re sorry! Our system isn’t working. Please try again. Something went wrong on our side, please try again. Please try again\n",
      "\n",
      "Causes\n",
      "\n",
      "Infection with the new coronavirus (severe acute respiratory syndrome coronavirus 2, or SARS-CoV-2) causes coronavirus disease 2019 ( COVID-19 ).\n",
      "\n",
      "The virus that causes COVID-19 spreads easily among people, and more continues to be discovered over time about how it spreads. Data has shown that it spreads mainly from person to person among those in close contact (within about 6 feet, or 2 meters). The virus spreads by respiratory droplets released when someone with the virus coughs, sneezes, breathes, sings or talks. These droplets can be inhaled or land in the mouth, nose or eyes of a person nearby.\n",
      "\n",
      "In some situations, the COVID-19 virus can spread by a person being exposed to small droplets or aerosols that stay in the air for several minutes or hours — called airborne transmission. It's not yet known how common it is for the virus to spread this way.\n",
      "\n",
      "It can also spread if a person touches a surface or object with the virus on it and then touches his or her mouth, nose or eyes, but the risk is low.\n",
      "\n",
      "Some reinfections of the virus that causes COVID-19 have happened, but these have been uncommon.\n",
      "\n",
      "Risk factors\n",
      "\n",
      "Risk factors for COVID-19 appear to include:\n",
      "\n",
      "Close contact (within 6 feet, or 2 meters) with someone who has COVID-19\n",
      "\n",
      "Being coughed or sneezed on by an infected person\n",
      "\n",
      "Complications\n",
      "\n",
      "Although most people with COVID-19 have mild to moderate symptoms, the disease can cause severe medical complications and lead to death in some people. Older adults or people with existing medical conditions are at greater risk of becoming seriously ill with COVID-19 .\n",
      "\n",
      "Complications can include:\n",
      "\n",
      "Pneumonia and trouble breathing\n",
      "\n",
      "Organ failure in several organs\n",
      "\n",
      "Heart problems\n",
      "\n",
      "A severe lung condition that causes a low amount of oxygen to go through your bloodstream to your organs (acute respiratory distress syndrome)\n",
      "\n",
      "Blood clots\n",
      "\n",
      "Acute kidney injury\n",
      "\n",
      "Additional viral and bacterial infections\n",
      "\n",
      "Prevention\n",
      "\n",
      "The U.S. Food and Drug Administration (FDA) has given emergency use authorization to some COVID-19 vaccines in the U.S. A vaccine can prevent you from getting the COVID-19 virus or prevent you from becoming seriously ill if you get the COVID-19 virus. Also, if you are fully vaccinated, you can return to many activities you may not have been able to do because of the pandemic — including not wearing a mask or social distancing — except where required by a rule or law. If you are fully vaccinated and have a condition or are taking medications that weaken your immune system, you may need to keep wearing a mask.\n",
      "\n",
      "If you haven’t had the COVID-19 vaccine, you can take many steps to reduce your risk of infection. WHO and CDC recommend following these precautions for avoiding exposure to the virus that causes COVID-19 :\n",
      "\n",
      "Avoid close contact (within about 6 feet, or 2 meters) with anyone who is sick or has symptoms.\n",
      "\n",
      "Keep distance between yourself and others (within about 6 feet, or 2 meters). This is especially important if you have a higher risk of serious illness. Keep in mind some people may have COVID-19 and spread it to others, even if they don't have symptoms or don't know they have COVID-19 .\n",
      "\n",
      "and spread it to others, even if they don't have symptoms or don't know they have . Avoid crowds and indoor places that have poor ventilation.\n",
      "\n",
      "Wash your hands often with soap and water for at least 20 seconds, or use an alcohol-based hand sanitizer that contains at least 60% alcohol.\n",
      "\n",
      "Wear a face mask in indoor public spaces and outdoors where there is a high risk of COVID-19 transmission, such as at a crowded event or large gathering. Further mask guidance differs depending on whether you are fully vaccinated or unvaccinated. Surgical masks may be used if available. N95 respirators should be reserved for health care providers.\n",
      "\n",
      "transmission, such as at a crowded event or large gathering. Further mask guidance differs depending on whether you are fully vaccinated or unvaccinated. Surgical masks may be used if available. N95 respirators should be reserved for health care providers. Cover your mouth and nose with your elbow or a tissue when you cough or sneeze. Throw away the used tissue. Wash your hands right away.\n",
      "\n",
      "Avoid touching your eyes, nose and mouth.\n",
      "\n",
      "Avoid sharing dishes, glasses, towels, bedding and other household items if you're sick.\n",
      "\n",
      "Clean and disinfect high-touch surfaces, such as doorknobs, light switches, electronics and counters, daily.\n",
      "\n",
      "Stay home from work, school and public areas if you're sick, unless you're going to get medical care. Avoid public transportation, taxis and ride-sharing if you're sick.\n",
      "\n",
      "If you have a chronic medical condition and may have a higher risk of serious illness, check with your doctor about other ways to protect yourself.\n",
      "\n",
      "Travel\n"
     ]
    }
   ],
   "source": [
    "corpus=article.text\n",
    "print(corpus)"
   ]
  },
  {
   "cell_type": "code",
   "execution_count": 10,
   "metadata": {
    "id": "x46-4WXuoOzp"
   },
   "outputs": [
    {
     "data": {
      "text/plain": [
       "['Overview\\n\\nCoronavirus Open pop-up dialog box Close Coronavirus Coronavirus Coronavirus is a family of viruses that can cause respiratory illnesses such as the common cold, severe acute respiratory syndrome (SARS) and Middle East respiratory syndrome (MERS).',\n",
       " 'Coronaviruses are a family of viruses that can cause illnesses such as the common cold, severe acute respiratory syndrome (SARS) and Middle East respiratory syndrome (MERS).',\n",
       " 'In 2019, a new coronavirus was identified as the cause of a disease outbreak that originated in China.',\n",
       " 'The virus is now known as the severe acute respiratory syndrome coronavirus 2 (SARS-CoV-2).',\n",
       " 'The disease it causes is called coronavirus disease 2019 (COVID-19).',\n",
       " 'In March 2020, the World Health Organization (WHO) declared the COVID-19 outbreak a pandemic.',\n",
       " 'Public health groups, including the U.S. Centers for Disease Control and Prevention (CDC) and WHO , are monitoring the pandemic and posting updates on their websites.',\n",
       " 'These groups have also issued recommendations for preventing and treating the illness.',\n",
       " 'Symptoms\\n\\nSigns and symptoms of coronavirus disease 2019 (COVID-19) may appear two to 14 days after exposure.',\n",
       " 'This time after exposure and before having symptoms is called the incubation period.',\n",
       " 'Common signs and symptoms can include:\\n\\nFever\\n\\nCough\\n\\nTiredness\\n\\nEarly symptoms of COVID-19 may include a loss of taste or smell.',\n",
       " 'Other symptoms can include:\\n\\nShortness of breath or difficulty breathing\\n\\nMuscle aches\\n\\nChills\\n\\nSore throat\\n\\nRunny nose\\n\\nHeadache\\n\\nChest pain\\n\\nPink eye (conjunctivitis)\\n\\nNausea\\n\\nVomiting\\n\\nDiarrhea\\n\\nRash\\n\\nThis list is not all inclusive.',\n",
       " 'Children have similar symptoms to adults and generally have mild illness.',\n",
       " 'The severity of COVID-19 symptoms can range from very mild to severe.',\n",
       " 'Some people may have only a few symptoms, and some people may have no symptoms at all.',\n",
       " 'Some people may experience worsened symptoms, such as worsened shortness of breath and pneumonia, about a week after symptoms start.',\n",
       " 'People who are older have a higher risk of serious illness from COVID-19 , and the risk increases with age.',\n",
       " 'People who have existing medical conditions also may have a higher risk of serious illness.',\n",
       " 'Certain medical conditions that may increase the risk of serious illness from COVID-19 include:\\n\\nSerious heart diseases, such as heart failure, coronary artery disease or cardiomyopathy\\n\\nCancer\\n\\nChronic obstructive pulmonary disease (COPD)\\n\\nType 1 or type 2 diabetes\\n\\nOverweight, obesity or severe obesity\\n\\nHigh blood pressure\\n\\nSmoking\\n\\nChronic kidney disease\\n\\nSickle cell disease or thalassemia\\n\\nWeakened immune system from solid organ transplants\\n\\nPregnancy\\n\\nAsthma\\n\\nChronic lung diseases such as cystic fibrosis or pulmonary fibrosis\\n\\nLiver disease\\n\\nDementia\\n\\nDown syndrome\\n\\nWeakened immune system from bone marrow transplant, HIV or some medications\\n\\nBrain and nervous system conditions\\n\\nSubstance use disorders\\n\\nThis list is not all inclusive.',\n",
       " 'Other underlying medical conditions may increase your risk of serious illness from COVID-19 .',\n",
       " 'COVID-19 self-checker\\n\\nAssess your symptoms on CDC’s coronavirus self-checker tool and find out if you’re a candidate for a COVID-19 test.',\n",
       " \"When to see a doctor\\n\\nIf you have COVID-19 signs or symptoms or you've been in contact with someone diagnosed with COVID-19 , contact your doctor or clinic right away for medical advice.\",\n",
       " 'Tell your health care team about your symptoms and possible exposure before you go to your appointment.',\n",
       " 'If you have emergency COVID-19 signs and symptoms, seek care immediately.',\n",
       " \"Emergency signs and symptoms can include:\\n\\nTrouble breathing\\n\\nPersistent chest pain or pressure\\n\\nInability to stay awake\\n\\nNew confusion\\n\\nPale, gray or blue-colored skin, lips or nail beds — depending on skin tone\\n\\nThis list isn't all inclusive.\",\n",
       " 'Let your doctor know if you are an older adult or have chronic medical conditions, such as heart disease or lung disease, as you may have a greater risk of becoming seriously ill with COVID-19 .',\n",
       " \"During the pandemic, it's important to make sure health care is available for those in greatest need.\",\n",
       " 'There is a problem with information submitted for this request.',\n",
       " 'Review/update the information highlighted below and resubmit the form.',\n",
       " 'Get the latest health advice from Mayo Clinic delivered to your inbox.',\n",
       " 'Sign up for free, and stay up-to-date on research advancements, health tips and current health topics, like COVID-19, plus expert advice on managing your health.',\n",
       " 'Email ErrorEmail field is required ErrorInclude a valid email address Get more in-depth expert advice.',\n",
       " 'Sign up for special offers on Mayo Clinic books, products and services, designed by experts to help people manage their health Learn more about our use of data To provide you with the most relevant and helpful information and to understand which information is beneficial, we may combine your e-mail and website usage information with other information we have about you.',\n",
       " 'If you are a Mayo Clinic Patient, this could include Protected Health Information (PHI).',\n",
       " 'If we combine this information with your PHI, we will treat all of that information as PHI, and will only use or disclose that information as set forth in our notice of privacy practices.',\n",
       " 'You may opt-out of e-mail communications at any time by clicking on the Unsubscribe link in the e-mail.',\n",
       " 'Subscribe!',\n",
       " 'Thank you for Subscribing Our Housecall e-newsletter will keep you up-to-date on the latest health information.',\n",
       " 'We’re sorry!',\n",
       " 'Our system isn’t working.',\n",
       " 'Please try again.',\n",
       " 'Something went wrong on our side, please try again.',\n",
       " 'Please try again\\n\\nCauses\\n\\nInfection with the new coronavirus (severe acute respiratory syndrome coronavirus 2, or SARS-CoV-2) causes coronavirus disease 2019 ( COVID-19 ).',\n",
       " 'The virus that causes COVID-19 spreads easily among people, and more continues to be discovered over time about how it spreads.',\n",
       " 'Data has shown that it spreads mainly from person to person among those in close contact (within about 6 feet, or 2 meters).',\n",
       " 'The virus spreads by respiratory droplets released when someone with the virus coughs, sneezes, breathes, sings or talks.',\n",
       " 'These droplets can be inhaled or land in the mouth, nose or eyes of a person nearby.',\n",
       " 'In some situations, the COVID-19 virus can spread by a person being exposed to small droplets or aerosols that stay in the air for several minutes or hours — called airborne transmission.',\n",
       " \"It's not yet known how common it is for the virus to spread this way.\",\n",
       " 'It can also spread if a person touches a surface or object with the virus on it and then touches his or her mouth, nose or eyes, but the risk is low.',\n",
       " 'Some reinfections of the virus that causes COVID-19 have happened, but these have been uncommon.',\n",
       " 'Risk factors\\n\\nRisk factors for COVID-19 appear to include:\\n\\nClose contact (within 6 feet, or 2 meters) with someone who has COVID-19\\n\\nBeing coughed or sneezed on by an infected person\\n\\nComplications\\n\\nAlthough most people with COVID-19 have mild to moderate symptoms, the disease can cause severe medical complications and lead to death in some people.',\n",
       " 'Older adults or people with existing medical conditions are at greater risk of becoming seriously ill with COVID-19 .',\n",
       " 'Complications can include:\\n\\nPneumonia and trouble breathing\\n\\nOrgan failure in several organs\\n\\nHeart problems\\n\\nA severe lung condition that causes a low amount of oxygen to go through your bloodstream to your organs (acute respiratory distress syndrome)\\n\\nBlood clots\\n\\nAcute kidney injury\\n\\nAdditional viral and bacterial infections\\n\\nPrevention\\n\\nThe U.S. Food and Drug Administration (FDA) has given emergency use authorization to some COVID-19 vaccines in the U.S. A vaccine can prevent you from getting the COVID-19 virus or prevent you from becoming seriously ill if you get the COVID-19 virus.',\n",
       " 'Also, if you are fully vaccinated, you can return to many activities you may not have been able to do because of the pandemic — including not wearing a mask or social distancing — except where required by a rule or law.',\n",
       " 'If you are fully vaccinated and have a condition or are taking medications that weaken your immune system, you may need to keep wearing a mask.',\n",
       " 'If you haven’t had the COVID-19 vaccine, you can take many steps to reduce your risk of infection.',\n",
       " 'WHO and CDC recommend following these precautions for avoiding exposure to the virus that causes COVID-19 :\\n\\nAvoid close contact (within about 6 feet, or 2 meters) with anyone who is sick or has symptoms.',\n",
       " 'Keep distance between yourself and others (within about 6 feet, or 2 meters).',\n",
       " 'This is especially important if you have a higher risk of serious illness.',\n",
       " \"Keep in mind some people may have COVID-19 and spread it to others, even if they don't have symptoms or don't know they have COVID-19 .\",\n",
       " \"and spread it to others, even if they don't have symptoms or don't know they have .\",\n",
       " 'Avoid crowds and indoor places that have poor ventilation.',\n",
       " 'Wash your hands often with soap and water for at least 20 seconds, or use an alcohol-based hand sanitizer that contains at least 60% alcohol.',\n",
       " 'Wear a face mask in indoor public spaces and outdoors where there is a high risk of COVID-19 transmission, such as at a crowded event or large gathering.',\n",
       " 'Further mask guidance differs depending on whether you are fully vaccinated or unvaccinated.',\n",
       " 'Surgical masks may be used if available.',\n",
       " 'N95 respirators should be reserved for health care providers.',\n",
       " 'transmission, such as at a crowded event or large gathering.',\n",
       " 'Further mask guidance differs depending on whether you are fully vaccinated or unvaccinated.',\n",
       " 'Surgical masks may be used if available.',\n",
       " 'N95 respirators should be reserved for health care providers.',\n",
       " 'Cover your mouth and nose with your elbow or a tissue when you cough or sneeze.',\n",
       " 'Throw away the used tissue.',\n",
       " 'Wash your hands right away.',\n",
       " 'Avoid touching your eyes, nose and mouth.',\n",
       " \"Avoid sharing dishes, glasses, towels, bedding and other household items if you're sick.\",\n",
       " 'Clean and disinfect high-touch surfaces, such as doorknobs, light switches, electronics and counters, daily.',\n",
       " \"Stay home from work, school and public areas if you're sick, unless you're going to get medical care.\",\n",
       " \"Avoid public transportation, taxis and ride-sharing if you're sick.\",\n",
       " 'If you have a chronic medical condition and may have a higher risk of serious illness, check with your doctor about other ways to protect yourself.',\n",
       " 'Travel']"
      ]
     },
     "execution_count": 10,
     "metadata": {},
     "output_type": "execute_result"
    }
   ],
   "source": [
    "text=corpus\n",
    "sentence_list = nltk.sent_tokenize(text)\n",
    "sentence_list"
   ]
  },
  {
   "cell_type": "code",
   "execution_count": 11,
   "metadata": {
    "colab": {
     "base_uri": "https://localhost:8080/",
     "height": 54
    },
    "id": "m80S8s3ipWzL",
    "outputId": "0bb0ad73-4bf8-4741-a194-e6e9681bb17c"
   },
   "outputs": [
    {
     "name": "stdout",
     "output_type": "stream",
     "text": [
      "['Overview\\n\\nCoronavirus Open pop-up dialog box Close Coronavirus Coronavirus Coronavirus is a family of viruses that can cause respiratory illnesses such as the common cold, severe acute respiratory syndrome (SARS) and Middle East respiratory syndrome (MERS).', 'Coronaviruses are a family of viruses that can cause illnesses such as the common cold, severe acute respiratory syndrome (SARS) and Middle East respiratory syndrome (MERS).', 'In 2019, a new coronavirus was identified as the cause of a disease outbreak that originated in China.', 'The virus is now known as the severe acute respiratory syndrome coronavirus 2 (SARS-CoV-2).', 'The disease it causes is called coronavirus disease 2019 (COVID-19).', 'In March 2020, the World Health Organization (WHO) declared the COVID-19 outbreak a pandemic.', 'Public health groups, including the U.S. Centers for Disease Control and Prevention (CDC) and WHO , are monitoring the pandemic and posting updates on their websites.', 'These groups have also issued recommendations for preventing and treating the illness.', 'Symptoms\\n\\nSigns and symptoms of coronavirus disease 2019 (COVID-19) may appear two to 14 days after exposure.', 'This time after exposure and before having symptoms is called the incubation period.', 'Common signs and symptoms can include:\\n\\nFever\\n\\nCough\\n\\nTiredness\\n\\nEarly symptoms of COVID-19 may include a loss of taste or smell.', 'Other symptoms can include:\\n\\nShortness of breath or difficulty breathing\\n\\nMuscle aches\\n\\nChills\\n\\nSore throat\\n\\nRunny nose\\n\\nHeadache\\n\\nChest pain\\n\\nPink eye (conjunctivitis)\\n\\nNausea\\n\\nVomiting\\n\\nDiarrhea\\n\\nRash\\n\\nThis list is not all inclusive.', 'Children have similar symptoms to adults and generally have mild illness.', 'The severity of COVID-19 symptoms can range from very mild to severe.', 'Some people may have only a few symptoms, and some people may have no symptoms at all.', 'Some people may experience worsened symptoms, such as worsened shortness of breath and pneumonia, about a week after symptoms start.', 'People who are older have a higher risk of serious illness from COVID-19 , and the risk increases with age.', 'People who have existing medical conditions also may have a higher risk of serious illness.', 'Certain medical conditions that may increase the risk of serious illness from COVID-19 include:\\n\\nSerious heart diseases, such as heart failure, coronary artery disease or cardiomyopathy\\n\\nCancer\\n\\nChronic obstructive pulmonary disease (COPD)\\n\\nType 1 or type 2 diabetes\\n\\nOverweight, obesity or severe obesity\\n\\nHigh blood pressure\\n\\nSmoking\\n\\nChronic kidney disease\\n\\nSickle cell disease or thalassemia\\n\\nWeakened immune system from solid organ transplants\\n\\nPregnancy\\n\\nAsthma\\n\\nChronic lung diseases such as cystic fibrosis or pulmonary fibrosis\\n\\nLiver disease\\n\\nDementia\\n\\nDown syndrome\\n\\nWeakened immune system from bone marrow transplant, HIV or some medications\\n\\nBrain and nervous system conditions\\n\\nSubstance use disorders\\n\\nThis list is not all inclusive.', 'Other underlying medical conditions may increase your risk of serious illness from COVID-19 .', 'COVID-19 self-checker\\n\\nAssess your symptoms on CDC’s coronavirus self-checker tool and find out if you’re a candidate for a COVID-19 test.', \"When to see a doctor\\n\\nIf you have COVID-19 signs or symptoms or you've been in contact with someone diagnosed with COVID-19 , contact your doctor or clinic right away for medical advice.\", 'Tell your health care team about your symptoms and possible exposure before you go to your appointment.', 'If you have emergency COVID-19 signs and symptoms, seek care immediately.', \"Emergency signs and symptoms can include:\\n\\nTrouble breathing\\n\\nPersistent chest pain or pressure\\n\\nInability to stay awake\\n\\nNew confusion\\n\\nPale, gray or blue-colored skin, lips or nail beds — depending on skin tone\\n\\nThis list isn't all inclusive.\", 'Let your doctor know if you are an older adult or have chronic medical conditions, such as heart disease or lung disease, as you may have a greater risk of becoming seriously ill with COVID-19 .', \"During the pandemic, it's important to make sure health care is available for those in greatest need.\", 'There is a problem with information submitted for this request.', 'Review/update the information highlighted below and resubmit the form.', 'Get the latest health advice from Mayo Clinic delivered to your inbox.', 'Sign up for free, and stay up-to-date on research advancements, health tips and current health topics, like COVID-19, plus expert advice on managing your health.', 'Email ErrorEmail field is required ErrorInclude a valid email address Get more in-depth expert advice.', 'Sign up for special offers on Mayo Clinic books, products and services, designed by experts to help people manage their health Learn more about our use of data To provide you with the most relevant and helpful information and to understand which information is beneficial, we may combine your e-mail and website usage information with other information we have about you.', 'If you are a Mayo Clinic Patient, this could include Protected Health Information (PHI).', 'If we combine this information with your PHI, we will treat all of that information as PHI, and will only use or disclose that information as set forth in our notice of privacy practices.', 'You may opt-out of e-mail communications at any time by clicking on the Unsubscribe link in the e-mail.', 'Subscribe!', 'Thank you for Subscribing Our Housecall e-newsletter will keep you up-to-date on the latest health information.', 'We’re sorry!', 'Our system isn’t working.', 'Please try again.', 'Something went wrong on our side, please try again.', 'Please try again\\n\\nCauses\\n\\nInfection with the new coronavirus (severe acute respiratory syndrome coronavirus 2, or SARS-CoV-2) causes coronavirus disease 2019 ( COVID-19 ).', 'The virus that causes COVID-19 spreads easily among people, and more continues to be discovered over time about how it spreads.', 'Data has shown that it spreads mainly from person to person among those in close contact (within about 6 feet, or 2 meters).', 'The virus spreads by respiratory droplets released when someone with the virus coughs, sneezes, breathes, sings or talks.', 'These droplets can be inhaled or land in the mouth, nose or eyes of a person nearby.', 'In some situations, the COVID-19 virus can spread by a person being exposed to small droplets or aerosols that stay in the air for several minutes or hours — called airborne transmission.', \"It's not yet known how common it is for the virus to spread this way.\", 'It can also spread if a person touches a surface or object with the virus on it and then touches his or her mouth, nose or eyes, but the risk is low.', 'Some reinfections of the virus that causes COVID-19 have happened, but these have been uncommon.', 'Risk factors\\n\\nRisk factors for COVID-19 appear to include:\\n\\nClose contact (within 6 feet, or 2 meters) with someone who has COVID-19\\n\\nBeing coughed or sneezed on by an infected person\\n\\nComplications\\n\\nAlthough most people with COVID-19 have mild to moderate symptoms, the disease can cause severe medical complications and lead to death in some people.', 'Older adults or people with existing medical conditions are at greater risk of becoming seriously ill with COVID-19 .', 'Complications can include:\\n\\nPneumonia and trouble breathing\\n\\nOrgan failure in several organs\\n\\nHeart problems\\n\\nA severe lung condition that causes a low amount of oxygen to go through your bloodstream to your organs (acute respiratory distress syndrome)\\n\\nBlood clots\\n\\nAcute kidney injury\\n\\nAdditional viral and bacterial infections\\n\\nPrevention\\n\\nThe U.S. Food and Drug Administration (FDA) has given emergency use authorization to some COVID-19 vaccines in the U.S. A vaccine can prevent you from getting the COVID-19 virus or prevent you from becoming seriously ill if you get the COVID-19 virus.', 'Also, if you are fully vaccinated, you can return to many activities you may not have been able to do because of the pandemic — including not wearing a mask or social distancing — except where required by a rule or law.', 'If you are fully vaccinated and have a condition or are taking medications that weaken your immune system, you may need to keep wearing a mask.', 'If you haven’t had the COVID-19 vaccine, you can take many steps to reduce your risk of infection.', 'WHO and CDC recommend following these precautions for avoiding exposure to the virus that causes COVID-19 :\\n\\nAvoid close contact (within about 6 feet, or 2 meters) with anyone who is sick or has symptoms.', 'Keep distance between yourself and others (within about 6 feet, or 2 meters).', 'This is especially important if you have a higher risk of serious illness.', \"Keep in mind some people may have COVID-19 and spread it to others, even if they don't have symptoms or don't know they have COVID-19 .\", \"and spread it to others, even if they don't have symptoms or don't know they have .\", 'Avoid crowds and indoor places that have poor ventilation.', 'Wash your hands often with soap and water for at least 20 seconds, or use an alcohol-based hand sanitizer that contains at least 60% alcohol.', 'Wear a face mask in indoor public spaces and outdoors where there is a high risk of COVID-19 transmission, such as at a crowded event or large gathering.', 'Further mask guidance differs depending on whether you are fully vaccinated or unvaccinated.', 'Surgical masks may be used if available.', 'N95 respirators should be reserved for health care providers.', 'transmission, such as at a crowded event or large gathering.', 'Further mask guidance differs depending on whether you are fully vaccinated or unvaccinated.', 'Surgical masks may be used if available.', 'N95 respirators should be reserved for health care providers.', 'Cover your mouth and nose with your elbow or a tissue when you cough or sneeze.', 'Throw away the used tissue.', 'Wash your hands right away.', 'Avoid touching your eyes, nose and mouth.', \"Avoid sharing dishes, glasses, towels, bedding and other household items if you're sick.\", 'Clean and disinfect high-touch surfaces, such as doorknobs, light switches, electronics and counters, daily.', \"Stay home from work, school and public areas if you're sick, unless you're going to get medical care.\", \"Avoid public transportation, taxis and ride-sharing if you're sick.\", 'If you have a chronic medical condition and may have a higher risk of serious illness, check with your doctor about other ways to protect yourself.', 'Travel']\n"
     ]
    }
   ],
   "source": [
    "print(sentence_list)"
   ]
  },
  {
   "cell_type": "code",
   "execution_count": 12,
   "metadata": {
    "id": "aKIDI1BWpdoe"
   },
   "outputs": [],
   "source": [
    "#fn. to return greeting response\n",
    "def greeting_response(text):\n",
    "  text=text.lower()\n",
    "  #bot's response\n",
    "  bot_greetings=['hey dear!!!' ,'hi dear!!!', 'hello dear!!!']\n",
    "  #user's greet'\n",
    "  user_greetings=['hi','hey','hello','hola','greetings','wassup']\n",
    "\n",
    "  for word in text.split():\n",
    "    if word in user_greetings:\n",
    "      return random.choice(bot_greetings)"
   ]
  },
  {
   "cell_type": "code",
   "execution_count": 13,
   "metadata": {
    "id": "R4zFXUAKt77B"
   },
   "outputs": [],
   "source": [
    "def index_sort(list_var):\n",
    "  length=len(list_var)\n",
    "  list_index = list(range(0,length))\n",
    "\n",
    "  x=list_var\n",
    "  for i in range(length):\n",
    "    for j in range(length):\n",
    "      if x[list_index[i]] > x[list_index[j]]:\n",
    "        temp=list_index[i]\n",
    "        list_index[i]=list_index[j]\n",
    "        list_index[j]=temp\n",
    "\n",
    "  return list_index      "
   ]
  },
  {
   "cell_type": "code",
   "execution_count": 14,
   "metadata": {
    "id": "FFG4EkR3s79d"
   },
   "outputs": [],
   "source": [
    "def bot_response(user_input):\n",
    "  user_input=user_input.lower()\n",
    "  global sentence_list\n",
    "  sentence_list.append(user_input)\n",
    "  bot_response = ''\n",
    "  cm=CountVectorizer().fit_transform(sentence_list)\n",
    "  similarity_scores=cosine_similarity(cm[-1],cm)\n",
    "  similarity_scores_list=similarity_scores.flatten()\n",
    "  index= index_sort(similarity_scores_list)\n",
    "  index= index[1:]\n",
    "  response_flag=0\n",
    "\n",
    "  j=0\n",
    "  for i in range(len(index)):\n",
    "    if similarity_scores_list[index[i]] > 0.0:\n",
    "      bot_response=bot_response + sentence_list[index[i]]\n",
    "      response_flag=1\n",
    "      j=j+1\n",
    "    if j>2:\n",
    "      break  \n",
    "\n",
    "  if response_flag == 0:\n",
    "    bot_response=bot_response +' '+\"I apologose, i did not quiet understand that. \"\n",
    "\n",
    "  sentence_list.remove(user_input)\n",
    "  return bot_response      "
   ]
  },
  {
   "cell_type": "code",
   "execution_count": 17,
   "metadata": {
    "colab": {
     "base_uri": "https://localhost:8080/",
     "height": 659
    },
    "id": "9Fqe1ygfvQF7",
    "outputId": "d6087a23-1d6a-4632-a8a4-367cb6121e78"
   },
   "outputs": [
    {
     "name": "stdout",
     "output_type": "stream",
     "text": [
      "Doc Bot: Hey. I am pk - Doctor Bot. I am here to answer your queries regarding COVID-19\n",
      "hi\n",
      "Doc Bot:hi dear!!!\n",
      "bye\n",
      "Doc Bot: It was great serving for you.\n"
     ]
    }
   ],
   "source": [
    "print('Doc Bot: Hey. I am pk - Doctor Bot. I am here to answer your queries regarding COVID-19')\n",
    "\n",
    "exit_list=['exit','see you later','bye','cya','quit','thanks','thank you']\n",
    "while(True):\n",
    "  user_input=input()\n",
    "  if user_input.lower() in exit_list:\n",
    "    print('Doc Bot: It was great serving for you.')\n",
    "    break\n",
    "  else:\n",
    "    if greeting_response(user_input) != None:\n",
    "      print('Doc Bot:' + greeting_response(user_input))\n",
    "    else:\n",
    "      print('Doc Bot:' + bot_response(user_input))"
   ]
  },
  {
   "cell_type": "code",
   "execution_count": null,
   "metadata": {},
   "outputs": [],
   "source": []
  },
  {
   "cell_type": "code",
   "execution_count": null,
   "metadata": {},
   "outputs": [],
   "source": []
  },
  {
   "cell_type": "code",
   "execution_count": null,
   "metadata": {},
   "outputs": [],
   "source": []
  }
 ],
 "metadata": {
  "colab": {
   "collapsed_sections": [],
   "name": "Ml bot.ipynb",
   "provenance": []
  },
  "kernelspec": {
   "display_name": "Python 3",
   "language": "python",
   "name": "python3"
  },
  "language_info": {
   "codemirror_mode": {
    "name": "ipython",
    "version": 3
   },
   "file_extension": ".py",
   "mimetype": "text/x-python",
   "name": "python",
   "nbconvert_exporter": "python",
   "pygments_lexer": "ipython3",
   "version": "3.8.8"
  }
 },
 "nbformat": 4,
 "nbformat_minor": 1
}
